{
 "cells": [
  {
   "cell_type": "code",
   "execution_count": 4,
   "metadata": {
    "collapsed": true
   },
   "outputs": [],
   "source": [
    "from xml.etree import ElementTree as ET"
   ]
  },
  {
   "cell_type": "code",
   "execution_count": 5,
   "metadata": {
    "collapsed": true
   },
   "outputs": [],
   "source": [
    "document_tree = ET.parse( './data/mondial_database.xml' )"
   ]
  },
  {
   "cell_type": "markdown",
   "metadata": {},
   "source": [
    "# 1. 10 countries with the lowest infant mortality rates"
   ]
  },
  {
   "cell_type": "code",
   "execution_count": 6,
   "metadata": {
    "collapsed": false
   },
   "outputs": [
    {
     "data": {
      "text/plain": [
       "[('Monaco', 1.81),\n",
       " ('Japan', 2.13),\n",
       " ('Norway', 2.48),\n",
       " ('Bermuda', 2.48),\n",
       " ('Singapore', 2.53),\n",
       " ('Sweden', 2.6),\n",
       " ('Czech Republic', 2.63),\n",
       " ('Hong Kong', 2.73),\n",
       " ('Macao', 3.13),\n",
       " ('Iceland', 3.15)]"
      ]
     },
     "execution_count": 6,
     "metadata": {},
     "output_type": "execute_result"
    }
   ],
   "source": [
    "# 1. 10 countries with the lowest infant mortality rates\n",
    "# print names of all countries and their cities\n",
    "\n",
    "# importing itemgetter library to use in sorting\n",
    "from operator import itemgetter\n",
    "\n",
    "# retrieving all the Counties from xml document tree\n",
    "countries = document_tree.findall(\".//country\")\n",
    "\n",
    "\n",
    "countires_infantMortality_list = [(t.find('name').text, float(t.find('infant_mortality').text)) for t in countries if t.find('infant_mortality') is not None]\n",
    "\n",
    "# sorting list for lowest to highest infant mortality rate\n",
    "countires_infantMortality_list.sort(key=itemgetter(1))\n",
    "\n",
    "# used slicing technique to get top 10 countries\n",
    "countires_infantMortality_list[:10]\n",
    "    "
   ]
  },
  {
   "cell_type": "markdown",
   "metadata": {},
   "source": [
    "# 2. 10 cities with the largest population"
   ]
  },
  {
   "cell_type": "code",
   "execution_count": 7,
   "metadata": {
    "collapsed": false
   },
   "outputs": [
    {
     "data": {
      "text/plain": [
       "[('Mumbai', 12442373.0),\n",
       " ('Delhi', 11034555.0),\n",
       " ('Bangalore', 8443675.0),\n",
       " ('London', 8250205.0),\n",
       " ('Tehran', 8154051.0),\n",
       " ('Dhaka', 7423137.0),\n",
       " ('Hyderabad', 6731790.0),\n",
       " ('Ahmadabad', 5577940.0),\n",
       " ('Luanda', 5000000.0),\n",
       " ('Chennai', 4646732.0)]"
      ]
     },
     "execution_count": 7,
     "metadata": {},
     "output_type": "execute_result"
    }
   ],
   "source": [
    "\n",
    "# retrieving all the cities from xm document tree\n",
    "cities = document_tree.findall(\".//country/province/city\")\n",
    "\n",
    "# creating list with cities and their population\n",
    "cities_list = list()\n",
    "for t in cities:\n",
    "    for i in t.findall('population'):\n",
    "        if i.get('year') == '2011':\n",
    "            #print(\"City Name: {0}, Population: {1}\".format(t.find('name').text, i.text))\n",
    "            cities_list.append((t.find('name').text, float(i.text)))\n",
    "\n",
    "# sorting list for largest to smallest population         \n",
    "cities_list.sort(key=itemgetter(1), reverse=True)\n",
    "\n",
    "# used slicing technique to get top 10 cities\n",
    "cities_list[:10]\n"
   ]
  },
  {
   "cell_type": "markdown",
   "metadata": {},
   "source": [
    "# 3. 10 ethnic groups with the largest overall populations (sum of best/latest estimates over all countries)"
   ]
  },
  {
   "cell_type": "code",
   "execution_count": 8,
   "metadata": {
    "collapsed": true
   },
   "outputs": [],
   "source": [
    "# functions used in following calculations\n",
    "\n",
    "def findUnique(egroup_list):\n",
    "    # finding unique ethnic groups from list of tuples\n",
    "    return set([x for (x,y) in egroup_list])\n",
    "\n",
    "\n",
    "def CalculateSum(egroup_list, egroup_unique):\n",
    "    ''' enumeration through unique ethnic groups to calculate sum of population \n",
    "    percentage in all countries for each ethnic group'''\n",
    "    egroup_population_sum = list()\n",
    "    for eg in egroup_unique:\n",
    "        population_list = [float(y) for (x,y) in egroup_list if x == eg]\n",
    "        egroup_population_sum.append((eg, sum(population_list)))\n",
    "    \n",
    "    return egroup_population_sum"
   ]
  },
  {
   "cell_type": "code",
   "execution_count": 9,
   "metadata": {
    "collapsed": false
   },
   "outputs": [
    {
     "data": {
      "text/plain": [
       "[('African', 1868.55),\n",
       " ('European', 970.82),\n",
       " ('Mestizo', 870.7),\n",
       " ('Polynesian', 666.5),\n",
       " ('Arab', 638.3),\n",
       " ('Chinese', 472.90000000000003),\n",
       " ('Arab-Berber', 296.1),\n",
       " ('Black', 255.5),\n",
       " ('Malay', 242.3),\n",
       " ('Melanesian', 231.1)]"
      ]
     },
     "execution_count": 9,
     "metadata": {},
     "output_type": "execute_result"
    }
   ],
   "source": [
    "''' Implemented this piece thinking that in question ask is to get ethnic \n",
    "    groups with highest population by percentage\n",
    "    '''\n",
    "\n",
    "# getting all ethnic groups\n",
    "ethnic_groups = document_tree.findall(\".//country/ethnicgroup\")\n",
    "\n",
    "# converting all the elements into list of tuple(city, population percentage)\n",
    "egroup_list = [(egroup.text, egroup.get('percentage')) for egroup in ethnic_groups]\n",
    "\n",
    "# find unique ethnic groups using findUnique def\n",
    "egroup_unique = findUnique(egroup_list)\n",
    "\n",
    "# calculating sum using CalculateSum def\n",
    "egroup_population_sum = CalculateSum(egroup_list, egroup_unique)\n",
    "\n",
    "# sorting ethnic group total in order of highest to lowest population percentage \n",
    "egroup_population_sum.sort(key=itemgetter(1), reverse=True)\n",
    "\n",
    "# slicing to get to 10 ethnic groups\n",
    "egroup_population_sum[:10]\n",
    "    "
   ]
  },
  {
   "cell_type": "code",
   "execution_count": 10,
   "metadata": {
    "collapsed": false
   },
   "outputs": [
    {
     "data": {
      "text/plain": [
       "[('Indo-Aryan', 871815583.44),\n",
       " ('Dravidian', 302713744.25),\n",
       " ('African', 166391983.871),\n",
       " ('Bengali', 146776916.72),\n",
       " ('German', 74278485.28199998),\n",
       " ('English', 52820300.80799999),\n",
       " ('Mediterranean Nordic', 46815916.0),\n",
       " ('Persian', 38326331.19),\n",
       " ('Polish', 38018419.995),\n",
       " ('Mongol', 36325649.31)]"
      ]
     },
     "execution_count": 10,
     "metadata": {},
     "output_type": "execute_result"
    }
   ],
   "source": [
    "''' Implemented same question thinking that in question ask is to get ethnic \n",
    "    groups with highest population \n",
    "    example: Kosovo country has 92 % of Albanians that means \n",
    "        92 % of 1733872 (population from 2011 census) = 1595162 \n",
    "        \n",
    "    By calculating the population by percentage for each ethnic group \n",
    "    in each country and getting the top 10 highest populations by ethnic groups\n",
    "    '''\n",
    "ethgp_list = list()\n",
    "for country in countries:\n",
    "    country_population = 0\n",
    "    for population in country.findall('population'):\n",
    "        if population.get('year') == '2011':\n",
    "            country_population = float(population.text)\n",
    "            break\n",
    "\n",
    "    for ethgrp in country.findall('ethnicgroup'):\n",
    "        ethgp_list.append((ethgrp.text, float(ethgrp.get('percentage')) * country_population / 100))\n",
    "\n",
    "# find unique ethnic groups using findUnique def\n",
    "ethgroup_unique = findUnique(ethgp_list)\n",
    "\n",
    "# calculating sum using CalculateSum def\n",
    "ethgroup_population_sum = CalculateSum(ethgp_list, ethgroup_unique)\n",
    "\n",
    "# sorting ethnic group total in order of highest to lowest population \n",
    "ethgroup_population_sum.sort(key=itemgetter(1), reverse=True)\n",
    "\n",
    "# used slicing technique to get to 10 ethnic groups\n",
    "ethgroup_population_sum[:10]\n",
    "            "
   ]
  },
  {
   "cell_type": "markdown",
   "metadata": {},
   "source": [
    "# 4. name and country of a) longest river, b) largest lake and c) airport at highest elevation"
   ]
  },
  {
   "cell_type": "markdown",
   "metadata": {},
   "source": [
    "## Calculating Longest River"
   ]
  },
  {
   "cell_type": "code",
   "execution_count": 11,
   "metadata": {
    "collapsed": false
   },
   "outputs": [
    {
     "data": {
      "text/plain": [
       "[('Amazonas', 6448.0, 'CO BR PE')]"
      ]
     },
     "execution_count": 11,
     "metadata": {},
     "output_type": "execute_result"
    }
   ],
   "source": [
    "# retreiving rivers from xml document tree\n",
    "rivers = document_tree.findall(\".//river\")\n",
    "\n",
    "rivers_list = list()\n",
    "for r in rivers:\n",
    "    #print(\"river Name: {0}\".format(r.find('name').text)) \n",
    "    if r.find('length') is None:\n",
    "        continue\n",
    "    #print(\"Length: {0}\".format(r.find('length').text))\n",
    "    rivers_list.append((r.find('name').text, float(r.find('length').text), r.get('country')))\n",
    "\n",
    "rivers_list.sort(key=itemgetter(1), reverse=True)\n",
    "\n",
    "rivers_list[:1]"
   ]
  },
  {
   "cell_type": "code",
   "execution_count": 12,
   "metadata": {
    "collapsed": false
   },
   "outputs": [
    {
     "data": {
      "text/plain": [
       "{'A': 'Austria', 'AFG': 'Afghanistan'}"
      ]
     },
     "execution_count": 12,
     "metadata": {},
     "output_type": "execute_result"
    }
   ],
   "source": [
    "# creating country lookup with country name and country code\n",
    "\n",
    "countries_lookup = {c.get('car_code'): c.find('name').text for c in countries}\n",
    "\n",
    "# displaying first 2 key: value pairs of countries\n",
    "{k: countries_lookup[k] for k in sorted(countries_lookup.keys())[:2]}"
   ]
  },
  {
   "cell_type": "code",
   "execution_count": 13,
   "metadata": {
    "collapsed": false
   },
   "outputs": [
    {
     "name": "stdout",
     "output_type": "stream",
     "text": [
      "Longest River Name: Amazonas \n",
      "Countries: ['Colombia', 'Brazil', 'Peru']\n"
     ]
    }
   ],
   "source": [
    "# Longest river\n",
    "longest_river = rivers_list[:1]\n",
    "country_name_for_longest_river = list()\n",
    "for cn in longest_river[0][2].split():\n",
    "    country_name_for_longest_river.append(countries_lookup.get(cn))\n",
    "\n",
    "print(\"Longest River Name: {0} \\nCountries: {1}\"\n",
    "      .format(longest_river[0][0], country_name_for_longest_river))"
   ]
  },
  {
   "cell_type": "markdown",
   "metadata": {},
   "source": [
    "## Calculating Largest Lake"
   ]
  },
  {
   "cell_type": "code",
   "execution_count": 14,
   "metadata": {
    "collapsed": false
   },
   "outputs": [
    {
     "data": {
      "text/plain": [
       "[('Caspian Sea', 386400.0, 'R AZ KAZ IR TM')]"
      ]
     },
     "execution_count": 14,
     "metadata": {},
     "output_type": "execute_result"
    }
   ],
   "source": [
    "# retreiving lakes from xml document tree\n",
    "lakes = document_tree.findall(\".//lake\")\n",
    "\n",
    "lakes_list = list()\n",
    "for l in lakes:\n",
    "    #print(\"lake Name: {0}\".format(r.find('name').text)) \n",
    "    if l.find('area') is None:\n",
    "        continue\n",
    "    #print(\"Area: {0}\".format(r.find('area').text))\n",
    "    lakes_list.append((l.find('name').text,\n",
    "                       float(l.find('area').text), l.get('country')))\n",
    "\n",
    "lakes_list.sort(key=itemgetter(1), reverse=True)\n",
    "\n",
    "lakes_list[:1]"
   ]
  },
  {
   "cell_type": "code",
   "execution_count": 15,
   "metadata": {
    "collapsed": false
   },
   "outputs": [
    {
     "name": "stdout",
     "output_type": "stream",
     "text": [
      "Largest Lake Name: Caspian Sea \n",
      "Countries: ['Russia', 'Azerbaijan', 'Kazakhstan', 'Iran', 'Turkmenistan']\n"
     ]
    }
   ],
   "source": [
    "# Largest lake\n",
    "largest_lake = lakes_list[:1]\n",
    "country_name_for_largest_lake = list()\n",
    "for cn in largest_lake[0][2].split():\n",
    "    country_name_for_largest_lake.append(countries_lookup.get(cn))\n",
    "\n",
    "print(\"Largest Lake Name: {0} \\nCountries: {1}\"\n",
    "      .format(largest_lake[0][0], country_name_for_largest_lake))"
   ]
  },
  {
   "cell_type": "markdown",
   "metadata": {},
   "source": [
    "## Calculating Highest Airport"
   ]
  },
  {
   "cell_type": "code",
   "execution_count": 16,
   "metadata": {
    "collapsed": false
   },
   "outputs": [
    {
     "data": {
      "text/plain": [
       "[('El Alto Intl', 4063.0, 'BOL')]"
      ]
     },
     "execution_count": 16,
     "metadata": {},
     "output_type": "execute_result"
    }
   ],
   "source": [
    "# retreiving airports from xml document tree\n",
    "airports = document_tree.findall(\".//airport\")\n",
    "\n",
    "# creating airports list with names, country codes and elevation of each airport\n",
    "airports_list = list()\n",
    "for a in airports:\n",
    "    #print(\"airport Name: {0}\".format(a.find('name').text))\n",
    "    # checking if the elevation tag exisits or not\n",
    "    if a.find('elevation') is None:\n",
    "        continue\n",
    "    # checking if elevation element has text or not\n",
    "    elif a.find('elevation').text is None:\n",
    "        continue\n",
    "\n",
    "    #print(\"Elevation: {0}\".format(a.find('elevation').text))\n",
    "    #print(a.find('name').text)\n",
    "    airports_list.append((a.find('name').text, \n",
    "                          float(a.find('elevation').text), \n",
    "                          a.get('country')))\n",
    "\n",
    "# sorting airports with highest to lowest elevation\n",
    "airports_list.sort(key=itemgetter(1), reverse=True)\n",
    "\n",
    "# used slicing technique to get airport with highest elevation\n",
    "airports_list[:1]"
   ]
  },
  {
   "cell_type": "code",
   "execution_count": 17,
   "metadata": {
    "collapsed": false
   },
   "outputs": [
    {
     "name": "stdout",
     "output_type": "stream",
     "text": [
      "Highest Airport Name: El Alto Intl \n",
      "Countries: ['Bolivia']\n"
     ]
    }
   ],
   "source": [
    "# Highest elevation airport\n",
    "highest_airport = airports_list[:1]\n",
    "country_name_for_highest_airport = list()\n",
    "for cn in highest_airport[0][2].split():\n",
    "    country_name_for_highest_airport.append(countries_lookup.get(cn))\n",
    "\n",
    "print(\"Highest Airport Name: {0} \\nCountries: {1}\"\n",
    "      .format(highest_airport[0][0], country_name_for_highest_airport))"
   ]
  },
  {
   "cell_type": "code",
   "execution_count": null,
   "metadata": {
    "collapsed": true
   },
   "outputs": [],
   "source": []
  }
 ],
 "metadata": {
  "kernelspec": {
   "display_name": "Python 3",
   "language": "python",
   "name": "python3"
  },
  "language_info": {
   "codemirror_mode": {
    "name": "ipython",
    "version": 3
   },
   "file_extension": ".py",
   "mimetype": "text/x-python",
   "name": "python",
   "nbconvert_exporter": "python",
   "pygments_lexer": "ipython3",
   "version": "3.6.0"
  }
 },
 "nbformat": 4,
 "nbformat_minor": 2
}
